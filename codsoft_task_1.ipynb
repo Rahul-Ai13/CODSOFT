{
 "cells": [
  {
   "cell_type": "code",
   "execution_count": 2,
   "metadata": {
    "id": "Q2jkYK7RWoAN"
   },
   "outputs": [],
   "source": [
    "import requests\n",
    "from datetime import datetime"
   ]
  },
  {
   "cell_type": "code",
   "execution_count": 3,
   "metadata": {
    "id": "oS0ouM1LXOmN"
   },
   "outputs": [],
   "source": [
    "API_KEY=\"d0504bd88914425797a110217241510\""
   ]
  },
  {
   "cell_type": "code",
   "execution_count": 4,
   "metadata": {
    "id": "Os8E3WB-aSnQ"
   },
   "outputs": [],
   "source": [
    "def weather(city):\n",
    "    complete_url = f\"http://api.weatherapi.com/v1/current.json?key={API_KEY}&q={city}&aqi=no\"\n",
    "    try:\n",
    "        response=requests.get(complete_url)\n",
    "        data=response.json()\n",
    "        if 'error' not in data:\n",
    "            weather=data[\"current\"]\n",
    "            temperature=weather[\"temp_c\"]\n",
    "            weather_info=weather[\"condition\"][\"text\"]\n",
    "            return f\"Temperature in {city} is curretly {weather_info} with a temperature of {temperature}°C\"\n",
    "        else:\n",
    "            return f\"Sorry i coudn't find the weather of {city} city.Please check the city name.\"\n",
    "    except Exception as e:\n",
    "      return \"Sorry, I couldn't fetch the weather information right now.\"\n"
   ]
  },
  {
   "cell_type": "code",
   "execution_count": 5,
   "metadata": {
    "id": "4CkY_QG6iPjK"
   },
   "outputs": [],
   "source": [
    "def chatbot():\n",
    "  print(\"Chatbot: Hello!! how can I help you?\")\n",
    "  while True:\n",
    "      user_input=input(\"You: \").lower()\n",
    "      if \"bye\" in user_input:\n",
    "          print(\"Chatbot: Goodbye! Have a great Day\")\n",
    "          break\n",
    "      elif \"hi\" in user_input or \"hello\" in user_input:\n",
    "          print(\"Chatbot: Hi!! how are you??\")\n",
    "      elif \"bad\" in user_input or \"not good\" in user_input or \"sad\" in user_input:\n",
    "          print(\"Chatbot: I'm sorry to hear that.hope you feel better soon!\")\n",
    "      elif \"great\" in user_input or \"fine\" in user_input or \"good\" in user_input:\n",
    "          print(\"Chatbot: That's great to hear!\")\n",
    "      elif \"concern\" in user_input:\n",
    "          print(\"Chatbot: No problem, I'm always here if you need anything\")\n",
    "      elif \"thank you\" in user_input:\n",
    "          print(\"Chatbot: Glad I could assist!\")\n",
    "      elif \"time\" in user_input:\n",
    "          time_info=datetime.now().strftime(\"%H:%M:%S\")\n",
    "          print(\"Chatbot: current time is:\",time_info)\n",
    "      elif \"date\" in user_input:\n",
    "          date_info=datetime.now().strftime(\"%B %d,%Y\")\n",
    "          print(\"Chatbot: today's date is:\",date_info)\n",
    "      elif 'weather' in user_input :\n",
    "          print(\"Chatbot: Please tell me the name of the city.\")\n",
    "          city = input(\"You: \").strip()\n",
    "          weather_info =weather(city)\n",
    "          print(f\"Chatbot: {weather_info}\")\n"
   ]
  },
  {
   "cell_type": "code",
   "execution_count": 10,
   "metadata": {
    "id": "AJwifxiIJ2wa"
   },
   "outputs": [
    {
     "name": "stdout",
     "output_type": "stream",
     "text": [
      "Chatbot: Hello!! how can I help you?\n",
      "You: hi\n",
      "Chatbot: Hi!! how are you??\n",
      "You: im good\n",
      "Chatbot: That's great to hear!\n",
      "You: can u tell me whats the weather right now\n",
      "Chatbot: Please tell me the name of the city.\n",
      "You: bangalore\n",
      "Chatbot: Temperature in bangalore is curretly Clear with a temperature of 20.0°C\n",
      "You: whats the time\n",
      "Chatbot: current time is: 22:04:23\n",
      "You: date?\n",
      "Chatbot: today's date is: October 26,2024\n",
      "You: bye\n",
      "Chatbot: Goodbye! Have a great Day\n"
     ]
    }
   ],
   "source": [
    "chatbot()"
   ]
  }
 ],
 "metadata": {
  "colab": {
   "provenance": []
  },
  "kernelspec": {
   "display_name": "Python 3 (ipykernel)",
   "language": "python",
   "name": "python3"
  },
  "language_info": {
   "codemirror_mode": {
    "name": "ipython",
    "version": 3
   },
   "file_extension": ".py",
   "mimetype": "text/x-python",
   "name": "python",
   "nbconvert_exporter": "python",
   "pygments_lexer": "ipython3",
   "version": "3.11.5"
  }
 },
 "nbformat": 4,
 "nbformat_minor": 1
}
