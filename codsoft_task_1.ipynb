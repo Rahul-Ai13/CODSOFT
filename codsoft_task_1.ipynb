{
  "nbformat": 4,
  "nbformat_minor": 0,
  "metadata": {
    "colab": {
      "provenance": [],
      "authorship_tag": "ABX9TyMP3SVg4xWpk6IjgTrMus6j",
      "include_colab_link": true
    },
    "kernelspec": {
      "name": "python3",
      "display_name": "Python 3"
    },
    "language_info": {
      "name": "python"
    }
  },
  "cells": [
    {
      "cell_type": "markdown",
      "metadata": {
        "id": "view-in-github",
        "colab_type": "text"
      },
      "source": [
        "<a href=\"https://colab.research.google.com/github/Rahul-Ai13/CODSOFT/blob/main/codsoft_task_1.ipynb\" target=\"_parent\"><img src=\"https://colab.research.google.com/assets/colab-badge.svg\" alt=\"Open In Colab\"/></a>"
      ]
    },
    {
      "cell_type": "code",
      "execution_count": null,
      "metadata": {
        "id": "Q2jkYK7RWoAN"
      },
      "outputs": [],
      "source": [
        "import requests\n",
        "from datetime import datetime"
      ]
    },
    {
      "cell_type": "code",
      "source": [
        "API_KEY=\"d0504bd88914425797a110217241510\""
      ],
      "metadata": {
        "id": "oS0ouM1LXOmN"
      },
      "execution_count": null,
      "outputs": []
    },
    {
      "cell_type": "code",
      "source": [
        "def weather(city):\n",
        "    complete_url = f\"http://api.weatherapi.com/v1/current.json?key={API_KEY}&q={city}&aqi=no\"\n",
        "    try:\n",
        "        response=requests.get(complete_url)\n",
        "        data=response.json()\n",
        "        if 'error' not in data:\n",
        "            weather=data[\"current\"]\n",
        "            temperature=weather[\"temp_c\"]\n",
        "            weather_info=weather[\"condition\"][\"text\"]\n",
        "            return f\"Temperature in {city} is curretly {weather_info} with a temperature of {temperature}°C\"\n",
        "        else:\n",
        "            return f\"Sorry i coudn't find the weather of {city} city.Please check the city name.\"\n",
        "    except Exception as e:\n",
        "      return \"Sorry, I couldn't fetch the weather information right now.\"\n"
      ],
      "metadata": {
        "id": "Os8E3WB-aSnQ"
      },
      "execution_count": null,
      "outputs": []
    },
    {
      "cell_type": "code",
      "source": [
        "def chatbot():\n",
        "  print(\"Chatbot: Hello!! how can I help you?\")\n",
        "  while True:\n",
        "      user_input=input(\"You: \").lower()\n",
        "      if \"bye\" in user_input:\n",
        "          print(\"Chatbot: Goodbye! Have a great Day\")\n",
        "          break\n",
        "      elif \"hi\" in user_input or \"hello\" in user_input:\n",
        "          print(\"Chatbot: Hi!! how are you??\")\n",
        "      elif \"bad\" in user_input or \"not good\" in user_input or \"sad\" in user_input:\n",
        "          print(\"Chatbot: I'm sorry to hear that.hope you feel better soon!\")\n",
        "      elif \"great\" in user_input or \"fine\" in user_input or \"good\" in user_input:\n",
        "          print(\"Chatbot: That's great to hear!\")\n",
        "      elif \"concern\" in user_input:\n",
        "          print(\"Chatbot: No problem, I'm always here if you need anything\")\n",
        "      elif \"thank you\" in user_input:\n",
        "          print(\"Chatbot: Glad I could assist!\")\n",
        "      elif \"time\" in user_input:\n",
        "          time_info=datetime.now().strftime(\"%H:%M:%S\")\n",
        "          print(\"Chatbot: current time is:\",time_info)\n",
        "      elif \"date\" in user_input:\n",
        "          date_info=datetime.now().strftime(\"%B %d,%Y\")\n",
        "          print(\"Chatbot: today's date is:\",date_info)\n",
        "      elif 'weather' in user_input :\n",
        "          print(\"Chatbot: Please tell me the name of the city.\")\n",
        "          city = input(\"You: \").strip()\n",
        "          weather_info =weather(city)\n",
        "          print(f\"Chatbot: {weather_info}\")\n"
      ],
      "metadata": {
        "id": "4CkY_QG6iPjK"
      },
      "execution_count": null,
      "outputs": []
    },
    {
      "cell_type": "code",
      "source": [
        "chatbot()"
      ],
      "metadata": {
        "id": "AJwifxiIJ2wa"
      },
      "execution_count": null,
      "outputs": []
    }
  ]
}